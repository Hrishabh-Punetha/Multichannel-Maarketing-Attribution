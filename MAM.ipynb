{
  "nbformat": 4,
  "nbformat_minor": 0,
  "metadata": {
    "colab": {
      "name": "MAM.ipynb",
      "provenance": [],
      "collapsed_sections": []
    },
    "kernelspec": {
      "name": "python3",
      "display_name": "Python 3"
    },
    "language_info": {
      "name": "python"
    }
  },
  "cells": [
    {
      "cell_type": "code",
      "metadata": {
        "colab": {
          "base_uri": "https://localhost:8080/"
        },
        "id": "1oo0QZRqXvAH",
        "outputId": "44ae7459-206a-43ab-a562-57e8c0408912"
      },
      "source": [
        "from google.colab import drive\n",
        "drive.mount('/content/gdrive')"
      ],
      "execution_count": 118,
      "outputs": [
        {
          "output_type": "stream",
          "text": [
            "Drive already mounted at /content/gdrive; to attempt to forcibly remount, call drive.mount(\"/content/gdrive\", force_remount=True).\n"
          ],
          "name": "stdout"
        }
      ]
    },
    {
      "cell_type": "code",
      "metadata": {
        "id": "6kEuOgImE8_c"
      },
      "source": [
        "import pandas as pd\n",
        "import numpy as np\n",
        "data=pd.read_csv('/content/gdrive/My Drive/attribution data.csv')"
      ],
      "execution_count": 119,
      "outputs": []
    },
    {
      "cell_type": "code",
      "metadata": {
        "colab": {
          "base_uri": "https://localhost:8080/",
          "height": 417
        },
        "id": "ztLEH3amE9En",
        "outputId": "5ed19e7e-161a-4447-f56b-03183e4e8abd"
      },
      "source": [
        "data"
      ],
      "execution_count": 120,
      "outputs": [
        {
          "output_type": "execute_result",
          "data": {
            "text/html": [
              "<div>\n",
              "<style scoped>\n",
              "    .dataframe tbody tr th:only-of-type {\n",
              "        vertical-align: middle;\n",
              "    }\n",
              "\n",
              "    .dataframe tbody tr th {\n",
              "        vertical-align: top;\n",
              "    }\n",
              "\n",
              "    .dataframe thead th {\n",
              "        text-align: right;\n",
              "    }\n",
              "</style>\n",
              "<table border=\"1\" class=\"dataframe\">\n",
              "  <thead>\n",
              "    <tr style=\"text-align: right;\">\n",
              "      <th></th>\n",
              "      <th>cookie</th>\n",
              "      <th>time</th>\n",
              "      <th>interaction</th>\n",
              "      <th>conversion</th>\n",
              "      <th>conversion_value</th>\n",
              "      <th>channel</th>\n",
              "    </tr>\n",
              "  </thead>\n",
              "  <tbody>\n",
              "    <tr>\n",
              "      <th>0</th>\n",
              "      <td>00000FkCnDfDDf0iC97iC703B</td>\n",
              "      <td>2018-07-03T13:02:11Z</td>\n",
              "      <td>impression</td>\n",
              "      <td>0</td>\n",
              "      <td>0.0</td>\n",
              "      <td>Instagram</td>\n",
              "    </tr>\n",
              "    <tr>\n",
              "      <th>1</th>\n",
              "      <td>00000FkCnDfDDf0iC97iC703B</td>\n",
              "      <td>2018-07-17T19:15:07Z</td>\n",
              "      <td>impression</td>\n",
              "      <td>0</td>\n",
              "      <td>0.0</td>\n",
              "      <td>Online Display</td>\n",
              "    </tr>\n",
              "    <tr>\n",
              "      <th>2</th>\n",
              "      <td>00000FkCnDfDDf0iC97iC703B</td>\n",
              "      <td>2018-07-24T15:51:46Z</td>\n",
              "      <td>impression</td>\n",
              "      <td>0</td>\n",
              "      <td>0.0</td>\n",
              "      <td>Online Display</td>\n",
              "    </tr>\n",
              "    <tr>\n",
              "      <th>3</th>\n",
              "      <td>00000FkCnDfDDf0iC97iC703B</td>\n",
              "      <td>2018-07-29T07:44:51Z</td>\n",
              "      <td>impression</td>\n",
              "      <td>0</td>\n",
              "      <td>0.0</td>\n",
              "      <td>Online Display</td>\n",
              "    </tr>\n",
              "    <tr>\n",
              "      <th>4</th>\n",
              "      <td>0000nACkD9nFkBBDECD3ki00E</td>\n",
              "      <td>2018-07-03T09:44:57Z</td>\n",
              "      <td>impression</td>\n",
              "      <td>0</td>\n",
              "      <td>0.0</td>\n",
              "      <td>Paid Search</td>\n",
              "    </tr>\n",
              "    <tr>\n",
              "      <th>...</th>\n",
              "      <td>...</td>\n",
              "      <td>...</td>\n",
              "      <td>...</td>\n",
              "      <td>...</td>\n",
              "      <td>...</td>\n",
              "      <td>...</td>\n",
              "    </tr>\n",
              "    <tr>\n",
              "      <th>586732</th>\n",
              "      <td>ooooEiB0CCoEf9fiiC90Dfhfk</td>\n",
              "      <td>2018-07-12T23:50:45Z</td>\n",
              "      <td>impression</td>\n",
              "      <td>0</td>\n",
              "      <td>0.0</td>\n",
              "      <td>Online Display</td>\n",
              "    </tr>\n",
              "    <tr>\n",
              "      <th>586733</th>\n",
              "      <td>ooooEiB0CCoEf9fiiC90Dfhfk</td>\n",
              "      <td>2018-07-12T23:50:54Z</td>\n",
              "      <td>impression</td>\n",
              "      <td>0</td>\n",
              "      <td>0.0</td>\n",
              "      <td>Online Display</td>\n",
              "    </tr>\n",
              "    <tr>\n",
              "      <th>586734</th>\n",
              "      <td>ooooiBh70D3k3BfAhDFfii9h7</td>\n",
              "      <td>2018-07-03T12:57:25Z</td>\n",
              "      <td>impression</td>\n",
              "      <td>0</td>\n",
              "      <td>0.0</td>\n",
              "      <td>Paid Search</td>\n",
              "    </tr>\n",
              "    <tr>\n",
              "      <th>586735</th>\n",
              "      <td>ooooiBh70D3k3BfAhDFfii9h7</td>\n",
              "      <td>2018-07-19T08:17:59Z</td>\n",
              "      <td>impression</td>\n",
              "      <td>0</td>\n",
              "      <td>0.0</td>\n",
              "      <td>Online Video</td>\n",
              "    </tr>\n",
              "    <tr>\n",
              "      <th>586736</th>\n",
              "      <td>ooooohAFofEnonEikhAi3fF9o</td>\n",
              "      <td>2018-07-14T17:17:12Z</td>\n",
              "      <td>impression</td>\n",
              "      <td>0</td>\n",
              "      <td>0.0</td>\n",
              "      <td>Paid Search</td>\n",
              "    </tr>\n",
              "  </tbody>\n",
              "</table>\n",
              "<p>586737 rows × 6 columns</p>\n",
              "</div>"
            ],
            "text/plain": [
              "                           cookie  ...         channel\n",
              "0       00000FkCnDfDDf0iC97iC703B  ...       Instagram\n",
              "1       00000FkCnDfDDf0iC97iC703B  ...  Online Display\n",
              "2       00000FkCnDfDDf0iC97iC703B  ...  Online Display\n",
              "3       00000FkCnDfDDf0iC97iC703B  ...  Online Display\n",
              "4       0000nACkD9nFkBBDECD3ki00E  ...     Paid Search\n",
              "...                           ...  ...             ...\n",
              "586732  ooooEiB0CCoEf9fiiC90Dfhfk  ...  Online Display\n",
              "586733  ooooEiB0CCoEf9fiiC90Dfhfk  ...  Online Display\n",
              "586734  ooooiBh70D3k3BfAhDFfii9h7  ...     Paid Search\n",
              "586735  ooooiBh70D3k3BfAhDFfii9h7  ...    Online Video\n",
              "586736  ooooohAFofEnonEikhAi3fF9o  ...     Paid Search\n",
              "\n",
              "[586737 rows x 6 columns]"
            ]
          },
          "metadata": {
            "tags": []
          },
          "execution_count": 120
        }
      ]
    },
    {
      "cell_type": "code",
      "metadata": {
        "colab": {
          "base_uri": "https://localhost:8080/"
        },
        "id": "eUnBj_5NE9Hm",
        "outputId": "2dd86b13-2a3c-46d0-aefd-bebd3f4128b1"
      },
      "source": [
        "data_path = data.groupby('cookie')['channel'].agg(lambda x: x.tolist()).reset_index()\n",
        "data_path=data_path.rename(columns={\"channel\":\"conv_path\"})\n",
        "sales_conv= data.drop_duplicates('cookie', keep='last')[['cookie', 'conversion', 'conversion_value']]\n",
        "print(data_path.shape)\n",
        "print(sales_conv.shape)"
      ],
      "execution_count": 121,
      "outputs": [
        {
          "output_type": "stream",
          "text": [
            "(240108, 2)\n",
            "(240108, 3)\n"
          ],
          "name": "stdout"
        }
      ]
    },
    {
      "cell_type": "code",
      "metadata": {
        "colab": {
          "base_uri": "https://localhost:8080/",
          "height": 203
        },
        "id": "XPFFzOkbE9J9",
        "outputId": "e45b3a99-39d2-4901-d336-fd800735e76b"
      },
      "source": [
        "\n",
        "clean_data=pd.merge(data_path,sales_conv,how='left', on = 'cookie' )\n",
        "clean_data.head()"
      ],
      "execution_count": 122,
      "outputs": [
        {
          "output_type": "execute_result",
          "data": {
            "text/html": [
              "<div>\n",
              "<style scoped>\n",
              "    .dataframe tbody tr th:only-of-type {\n",
              "        vertical-align: middle;\n",
              "    }\n",
              "\n",
              "    .dataframe tbody tr th {\n",
              "        vertical-align: top;\n",
              "    }\n",
              "\n",
              "    .dataframe thead th {\n",
              "        text-align: right;\n",
              "    }\n",
              "</style>\n",
              "<table border=\"1\" class=\"dataframe\">\n",
              "  <thead>\n",
              "    <tr style=\"text-align: right;\">\n",
              "      <th></th>\n",
              "      <th>cookie</th>\n",
              "      <th>conv_path</th>\n",
              "      <th>conversion</th>\n",
              "      <th>conversion_value</th>\n",
              "    </tr>\n",
              "  </thead>\n",
              "  <tbody>\n",
              "    <tr>\n",
              "      <th>0</th>\n",
              "      <td>00000FkCnDfDDf0iC97iC703B</td>\n",
              "      <td>[Instagram, Online Display, Online Display, On...</td>\n",
              "      <td>0</td>\n",
              "      <td>0.0</td>\n",
              "    </tr>\n",
              "    <tr>\n",
              "      <th>1</th>\n",
              "      <td>0000nACkD9nFkBBDECD3ki00E</td>\n",
              "      <td>[Paid Search, Paid Search, Paid Search, Paid S...</td>\n",
              "      <td>0</td>\n",
              "      <td>0.0</td>\n",
              "    </tr>\n",
              "    <tr>\n",
              "      <th>2</th>\n",
              "      <td>0003EfE37E93D0BC03iBhBBhF</td>\n",
              "      <td>[Paid Search, Paid Search, Paid Search, Paid S...</td>\n",
              "      <td>0</td>\n",
              "      <td>0.0</td>\n",
              "    </tr>\n",
              "    <tr>\n",
              "      <th>3</th>\n",
              "      <td>00073CFE3FoFCn70fBhB3kfon</td>\n",
              "      <td>[Instagram]</td>\n",
              "      <td>0</td>\n",
              "      <td>0.0</td>\n",
              "    </tr>\n",
              "    <tr>\n",
              "      <th>4</th>\n",
              "      <td>00079hhBkDF3k3kDkiFi9EFAD</td>\n",
              "      <td>[Paid Search]</td>\n",
              "      <td>0</td>\n",
              "      <td>0.0</td>\n",
              "    </tr>\n",
              "  </tbody>\n",
              "</table>\n",
              "</div>"
            ],
            "text/plain": [
              "                      cookie  ... conversion_value\n",
              "0  00000FkCnDfDDf0iC97iC703B  ...              0.0\n",
              "1  0000nACkD9nFkBBDECD3ki00E  ...              0.0\n",
              "2  0003EfE37E93D0BC03iBhBBhF  ...              0.0\n",
              "3  00073CFE3FoFCn70fBhB3kfon  ...              0.0\n",
              "4  00079hhBkDF3k3kDkiFi9EFAD  ...              0.0\n",
              "\n",
              "[5 rows x 4 columns]"
            ]
          },
          "metadata": {
            "tags": []
          },
          "execution_count": 122
        }
      ]
    },
    {
      "cell_type": "code",
      "metadata": {
        "colab": {
          "base_uri": "https://localhost:8080/",
          "height": 203
        },
        "id": "ZVT2QTBFhNgU",
        "outputId": "7b08f58a-856c-4327-e1da-df764d610b70"
      },
      "source": [
        "def listToString(clean_data):  \n",
        "    str1 = \"\"  \n",
        "    for i in clean_data['conv_path']:\n",
        "      str1 += i + ' > '    \n",
        "    return str1[:-3]\n",
        "\n",
        "clean_data['conv_path'] = clean_data.apply(listToString, axis=1)\n",
        "clean_data.head()"
      ],
      "execution_count": 123,
      "outputs": [
        {
          "output_type": "execute_result",
          "data": {
            "text/html": [
              "<div>\n",
              "<style scoped>\n",
              "    .dataframe tbody tr th:only-of-type {\n",
              "        vertical-align: middle;\n",
              "    }\n",
              "\n",
              "    .dataframe tbody tr th {\n",
              "        vertical-align: top;\n",
              "    }\n",
              "\n",
              "    .dataframe thead th {\n",
              "        text-align: right;\n",
              "    }\n",
              "</style>\n",
              "<table border=\"1\" class=\"dataframe\">\n",
              "  <thead>\n",
              "    <tr style=\"text-align: right;\">\n",
              "      <th></th>\n",
              "      <th>cookie</th>\n",
              "      <th>conv_path</th>\n",
              "      <th>conversion</th>\n",
              "      <th>conversion_value</th>\n",
              "    </tr>\n",
              "  </thead>\n",
              "  <tbody>\n",
              "    <tr>\n",
              "      <th>0</th>\n",
              "      <td>00000FkCnDfDDf0iC97iC703B</td>\n",
              "      <td>Instagram &gt; Online Display &gt; Online Display &gt; ...</td>\n",
              "      <td>0</td>\n",
              "      <td>0.0</td>\n",
              "    </tr>\n",
              "    <tr>\n",
              "      <th>1</th>\n",
              "      <td>0000nACkD9nFkBBDECD3ki00E</td>\n",
              "      <td>Paid Search &gt; Paid Search &gt; Paid Search &gt; Paid...</td>\n",
              "      <td>0</td>\n",
              "      <td>0.0</td>\n",
              "    </tr>\n",
              "    <tr>\n",
              "      <th>2</th>\n",
              "      <td>0003EfE37E93D0BC03iBhBBhF</td>\n",
              "      <td>Paid Search &gt; Paid Search &gt; Paid Search &gt; Paid...</td>\n",
              "      <td>0</td>\n",
              "      <td>0.0</td>\n",
              "    </tr>\n",
              "    <tr>\n",
              "      <th>3</th>\n",
              "      <td>00073CFE3FoFCn70fBhB3kfon</td>\n",
              "      <td>Instagram</td>\n",
              "      <td>0</td>\n",
              "      <td>0.0</td>\n",
              "    </tr>\n",
              "    <tr>\n",
              "      <th>4</th>\n",
              "      <td>00079hhBkDF3k3kDkiFi9EFAD</td>\n",
              "      <td>Paid Search</td>\n",
              "      <td>0</td>\n",
              "      <td>0.0</td>\n",
              "    </tr>\n",
              "  </tbody>\n",
              "</table>\n",
              "</div>"
            ],
            "text/plain": [
              "                      cookie  ... conversion_value\n",
              "0  00000FkCnDfDDf0iC97iC703B  ...              0.0\n",
              "1  0000nACkD9nFkBBDECD3ki00E  ...              0.0\n",
              "2  0003EfE37E93D0BC03iBhBBhF  ...              0.0\n",
              "3  00073CFE3FoFCn70fBhB3kfon  ...              0.0\n",
              "4  00079hhBkDF3k3kDkiFi9EFAD  ...              0.0\n",
              "\n",
              "[5 rows x 4 columns]"
            ]
          },
          "metadata": {
            "tags": []
          },
          "execution_count": 123
        }
      ]
    },
    {
      "cell_type": "code",
      "metadata": {
        "id": "6aqVYDD2qbzm"
      },
      "source": [
        "clean_data['var_null']=[abs(i-1) for i in clean_data['conversion']]"
      ],
      "execution_count": 124,
      "outputs": []
    },
    {
      "cell_type": "code",
      "metadata": {
        "colab": {
          "base_uri": "https://localhost:8080/",
          "height": 417
        },
        "id": "sK22HhQrr-im",
        "outputId": "45bd0121-85e8-42ca-8773-878ce083fb9d"
      },
      "source": [
        "clean_data"
      ],
      "execution_count": 125,
      "outputs": [
        {
          "output_type": "execute_result",
          "data": {
            "text/html": [
              "<div>\n",
              "<style scoped>\n",
              "    .dataframe tbody tr th:only-of-type {\n",
              "        vertical-align: middle;\n",
              "    }\n",
              "\n",
              "    .dataframe tbody tr th {\n",
              "        vertical-align: top;\n",
              "    }\n",
              "\n",
              "    .dataframe thead th {\n",
              "        text-align: right;\n",
              "    }\n",
              "</style>\n",
              "<table border=\"1\" class=\"dataframe\">\n",
              "  <thead>\n",
              "    <tr style=\"text-align: right;\">\n",
              "      <th></th>\n",
              "      <th>cookie</th>\n",
              "      <th>conv_path</th>\n",
              "      <th>conversion</th>\n",
              "      <th>conversion_value</th>\n",
              "      <th>var_null</th>\n",
              "    </tr>\n",
              "  </thead>\n",
              "  <tbody>\n",
              "    <tr>\n",
              "      <th>0</th>\n",
              "      <td>00000FkCnDfDDf0iC97iC703B</td>\n",
              "      <td>Instagram &gt; Online Display &gt; Online Display &gt; ...</td>\n",
              "      <td>0</td>\n",
              "      <td>0.0</td>\n",
              "      <td>1</td>\n",
              "    </tr>\n",
              "    <tr>\n",
              "      <th>1</th>\n",
              "      <td>0000nACkD9nFkBBDECD3ki00E</td>\n",
              "      <td>Paid Search &gt; Paid Search &gt; Paid Search &gt; Paid...</td>\n",
              "      <td>0</td>\n",
              "      <td>0.0</td>\n",
              "      <td>1</td>\n",
              "    </tr>\n",
              "    <tr>\n",
              "      <th>2</th>\n",
              "      <td>0003EfE37E93D0BC03iBhBBhF</td>\n",
              "      <td>Paid Search &gt; Paid Search &gt; Paid Search &gt; Paid...</td>\n",
              "      <td>0</td>\n",
              "      <td>0.0</td>\n",
              "      <td>1</td>\n",
              "    </tr>\n",
              "    <tr>\n",
              "      <th>3</th>\n",
              "      <td>00073CFE3FoFCn70fBhB3kfon</td>\n",
              "      <td>Instagram</td>\n",
              "      <td>0</td>\n",
              "      <td>0.0</td>\n",
              "      <td>1</td>\n",
              "    </tr>\n",
              "    <tr>\n",
              "      <th>4</th>\n",
              "      <td>00079hhBkDF3k3kDkiFi9EFAD</td>\n",
              "      <td>Paid Search</td>\n",
              "      <td>0</td>\n",
              "      <td>0.0</td>\n",
              "      <td>1</td>\n",
              "    </tr>\n",
              "    <tr>\n",
              "      <th>...</th>\n",
              "      <td>...</td>\n",
              "      <td>...</td>\n",
              "      <td>...</td>\n",
              "      <td>...</td>\n",
              "      <td>...</td>\n",
              "    </tr>\n",
              "    <tr>\n",
              "      <th>240103</th>\n",
              "      <td>ooooE0hkAFBkED90ChDDiBFAf</td>\n",
              "      <td>Online Display</td>\n",
              "      <td>0</td>\n",
              "      <td>0.0</td>\n",
              "      <td>1</td>\n",
              "    </tr>\n",
              "    <tr>\n",
              "      <th>240104</th>\n",
              "      <td>ooooEBE0o0D97ACAAAnDoi3F0</td>\n",
              "      <td>Online Display</td>\n",
              "      <td>0</td>\n",
              "      <td>0.0</td>\n",
              "      <td>1</td>\n",
              "    </tr>\n",
              "    <tr>\n",
              "      <th>240105</th>\n",
              "      <td>ooooEiB0CCoEf9fiiC90Dfhfk</td>\n",
              "      <td>Online Display &gt; Online Display &gt; Online Display</td>\n",
              "      <td>0</td>\n",
              "      <td>0.0</td>\n",
              "      <td>1</td>\n",
              "    </tr>\n",
              "    <tr>\n",
              "      <th>240106</th>\n",
              "      <td>ooooiBh70D3k3BfAhDFfii9h7</td>\n",
              "      <td>Paid Search &gt; Online Video</td>\n",
              "      <td>0</td>\n",
              "      <td>0.0</td>\n",
              "      <td>1</td>\n",
              "    </tr>\n",
              "    <tr>\n",
              "      <th>240107</th>\n",
              "      <td>ooooohAFofEnonEikhAi3fF9o</td>\n",
              "      <td>Paid Search</td>\n",
              "      <td>0</td>\n",
              "      <td>0.0</td>\n",
              "      <td>1</td>\n",
              "    </tr>\n",
              "  </tbody>\n",
              "</table>\n",
              "<p>240108 rows × 5 columns</p>\n",
              "</div>"
            ],
            "text/plain": [
              "                           cookie  ... var_null\n",
              "0       00000FkCnDfDDf0iC97iC703B  ...        1\n",
              "1       0000nACkD9nFkBBDECD3ki00E  ...        1\n",
              "2       0003EfE37E93D0BC03iBhBBhF  ...        1\n",
              "3       00073CFE3FoFCn70fBhB3kfon  ...        1\n",
              "4       00079hhBkDF3k3kDkiFi9EFAD  ...        1\n",
              "...                           ...  ...      ...\n",
              "240103  ooooE0hkAFBkED90ChDDiBFAf  ...        1\n",
              "240104  ooooEBE0o0D97ACAAAnDoi3F0  ...        1\n",
              "240105  ooooEiB0CCoEf9fiiC90Dfhfk  ...        1\n",
              "240106  ooooiBh70D3k3BfAhDFfii9h7  ...        1\n",
              "240107  ooooohAFofEnonEikhAi3fF9o  ...        1\n",
              "\n",
              "[240108 rows x 5 columns]"
            ]
          },
          "metadata": {
            "tags": []
          },
          "execution_count": 125
        }
      ]
    },
    {
      "cell_type": "code",
      "metadata": {
        "colab": {
          "base_uri": "https://localhost:8080/"
        },
        "id": "aTvnOCVcFX8r",
        "outputId": "a8f377c9-0438-4a43-f9a4-339e89e87d8e"
      },
      "source": [
        "pip install ChannelAttribution"
      ],
      "execution_count": 126,
      "outputs": [
        {
          "output_type": "stream",
          "text": [
            "Requirement already satisfied: ChannelAttribution in /usr/local/lib/python3.7/dist-packages (2.0.10)\n",
            "Requirement already satisfied: pandas in /usr/local/lib/python3.7/dist-packages (from ChannelAttribution) (1.1.5)\n",
            "Requirement already satisfied: numpy in /usr/local/lib/python3.7/dist-packages (from ChannelAttribution) (1.19.5)\n",
            "Requirement already satisfied: pytz>=2017.2 in /usr/local/lib/python3.7/dist-packages (from pandas->ChannelAttribution) (2018.9)\n",
            "Requirement already satisfied: python-dateutil>=2.7.3 in /usr/local/lib/python3.7/dist-packages (from pandas->ChannelAttribution) (2.8.1)\n",
            "Requirement already satisfied: six>=1.5 in /usr/local/lib/python3.7/dist-packages (from python-dateutil>=2.7.3->pandas->ChannelAttribution) (1.15.0)\n"
          ],
          "name": "stdout"
        }
      ]
    },
    {
      "cell_type": "code",
      "metadata": {
        "id": "DG_TvV1XMe9n"
      },
      "source": [
        "import ChannelAttribution\n",
        "from ChannelAttribution import heuristic_models as hm\n"
      ],
      "execution_count": 127,
      "outputs": []
    },
    {
      "cell_type": "code",
      "metadata": {
        "id": "S0f-j-WAN06Q"
      },
      "source": [
        "heuristic=hm(clean_data,\"conv_path\",\"conversion\",var_value=\"conversion_value\")"
      ],
      "execution_count": 128,
      "outputs": []
    },
    {
      "cell_type": "code",
      "metadata": {
        "colab": {
          "base_uri": "https://localhost:8080/"
        },
        "id": "myoKkS621Co1",
        "outputId": "cfebe875-f9a4-473b-eea4-35d96808c58e"
      },
      "source": [
        "from ChannelAttribution import markov_model as mm\n",
        "markov=mm(clean_data,\"conv_path\",\"conversion\",var_value=\"conversion_value\")"
      ],
      "execution_count": 129,
      "outputs": [
        {
          "output_type": "stream",
          "text": [
            "Number of simulations: 100000 - Convergence reached: 1.71% < 5.00%\n",
            "Percentage of simulated paths that successfully end before maximum number of steps (48) is reached: 99.99%\n"
          ],
          "name": "stdout"
        }
      ]
    },
    {
      "cell_type": "code",
      "metadata": {
        "id": "nnCYcNTFL-CZ"
      },
      "source": [
        "import plotly.io as pio"
      ],
      "execution_count": 130,
      "outputs": []
    },
    {
      "cell_type": "code",
      "metadata": {
        "colab": {
          "base_uri": "https://localhost:8080/",
          "height": 542
        },
        "id": "qRj-QLIF59g0",
        "outputId": "5544f8fb-874e-485f-ff9d-1325a63a99b1"
      },
      "source": [
        "R=pd.merge(heuristic,markov,on=\"channel_name\",how=\"inner\")\n",
        "R1=R[[\"channel_name\",\"first_touch_conversions\",\"last_touch_conversions\",\"linear_touch_conversions\",\"total_conversions\"]]\n",
        "R1.columns=[\"channel_name\",\"first_touch\",\"last_touch\",\"linear_touch\",\"markov_model\"]\n",
        "R1=pd.melt(R1, id_vars=\"channel_name\")\n",
        "data = [dict(type = \"histogram\", histfunc=\"sum\",x = R1.channel_name, y = R1.value,transforms = [dict(type = \"groupby\", groups = R1.variable)])]\n",
        "\n",
        "fig = dict({\"data\":data}) \n",
        "pio.show(fig,validate=False)"
      ],
      "execution_count": 166,
      "outputs": [
        {
          "output_type": "display_data",
          "data": {
            "text/html": [
              "<html>\n",
              "<head><meta charset=\"utf-8\" /></head>\n",
              "<body>\n",
              "    <div>\n",
              "            <script src=\"https://cdnjs.cloudflare.com/ajax/libs/mathjax/2.7.5/MathJax.js?config=TeX-AMS-MML_SVG\"></script><script type=\"text/javascript\">if (window.MathJax) {MathJax.Hub.Config({SVG: {font: \"STIX-Web\"}});}</script>\n",
              "                <script type=\"text/javascript\">window.PlotlyConfig = {MathJaxConfig: 'local'};</script>\n",
              "        <script src=\"https://cdn.plot.ly/plotly-latest.min.js\"></script>    \n",
              "            <div id=\"c5dba27c-0c88-48bd-a1c7-ce874b6b16da\" class=\"plotly-graph-div\" style=\"height:525px; width:100%;\"></div>\n",
              "            <script type=\"text/javascript\">\n",
              "                \n",
              "                    window.PLOTLYENV=window.PLOTLYENV || {};\n",
              "                    \n",
              "                if (document.getElementById(\"c5dba27c-0c88-48bd-a1c7-ce874b6b16da\")) {\n",
              "                    Plotly.newPlot(\n",
              "                        'c5dba27c-0c88-48bd-a1c7-ce874b6b16da',\n",
              "                        [{\"histfunc\": \"sum\", \"transforms\": [{\"groups\": [\"first_touch\", \"first_touch\", \"first_touch\", \"first_touch\", \"first_touch\", \"last_touch\", \"last_touch\", \"last_touch\", \"last_touch\", \"last_touch\", \"linear_touch\", \"linear_touch\", \"linear_touch\", \"linear_touch\", \"linear_touch\", \"markov_model\", \"markov_model\", \"markov_model\", \"markov_model\", \"markov_model\"], \"type\": \"groupby\"}], \"type\": \"histogram\", \"x\": [\"Instagram\", \"Online Display\", \"Paid Search\", \"Facebook\", \"Online Video\", \"Instagram\", \"Online Display\", \"Paid Search\", \"Facebook\", \"Online Video\", \"Instagram\", \"Online Display\", \"Paid Search\", \"Facebook\", \"Online Video\", \"Instagram\", \"Online Display\", \"Paid Search\", \"Facebook\", \"Online Video\"], \"y\": [2329.0, 2160.0, 4757.0, 5177.0, 3216.0, 2244.0, 2139.0, 4547.0, 5301.0, 3408.0, 2265.179353013687, 2124.315255766789, 4681.198649801593, 5218.90337078549, 3349.4033706324544, 3498.171597633136, 2057.153846153846, 3981.877712031558, 5229.861932938856, 2871.934911242604]}],\n",
              "                        {},\n",
              "                        {\"responsive\": true}\n",
              "                    ).then(function(){\n",
              "                            \n",
              "var gd = document.getElementById('c5dba27c-0c88-48bd-a1c7-ce874b6b16da');\n",
              "var x = new MutationObserver(function (mutations, observer) {{\n",
              "        var display = window.getComputedStyle(gd).display;\n",
              "        if (!display || display === 'none') {{\n",
              "            console.log([gd, 'removed!']);\n",
              "            Plotly.purge(gd);\n",
              "            observer.disconnect();\n",
              "        }}\n",
              "}});\n",
              "\n",
              "// Listen for the removal of the full notebook cells\n",
              "var notebookContainer = gd.closest('#notebook-container');\n",
              "if (notebookContainer) {{\n",
              "    x.observe(notebookContainer, {childList: true});\n",
              "}}\n",
              "\n",
              "// Listen for the clearing of the current output cell\n",
              "var outputEl = gd.closest('.output');\n",
              "if (outputEl) {{\n",
              "    x.observe(outputEl, {childList: true});\n",
              "}}\n",
              "\n",
              "                        })\n",
              "                };\n",
              "                \n",
              "            </script>\n",
              "        </div>\n",
              "</body>\n",
              "</html>"
            ]
          },
          "metadata": {
            "tags": []
          }
        }
      ]
    },
    {
      "cell_type": "code",
      "metadata": {
        "colab": {
          "base_uri": "https://localhost:8080/",
          "height": 542
        },
        "id": "JUfiwWGDJ5qU",
        "outputId": "72919f49-9315-43b4-d7a9-fd2995be2f31"
      },
      "source": [
        "R2=R[[\"channel_name\",\"first_touch_value\",\"last_touch_value\",\n",
        "\"linear_touch_value\",\"total_conversion_value\"]]\n",
        "R2.columns=[\"channel_name\",\"first_touch\",\"last_touch\",\"linear_touch\",\"markov_model\"]\n",
        "\n",
        "R2=pd.melt(R2, id_vars=\"channel_name\")\n",
        "data = [dict(type = \"histogram\", histfunc=\"sum\", x = R2.channel_name, y = R2.value,\n",
        "             transforms = [dict(type = \"groupby\",groups = R2.variable)])]\n",
        "\n",
        "fig = dict({\"data\":data})\n",
        "pio.show(fig,validate=False)\n"
      ],
      "execution_count": 132,
      "outputs": [
        {
          "output_type": "display_data",
          "data": {
            "text/html": [
              "<html>\n",
              "<head><meta charset=\"utf-8\" /></head>\n",
              "<body>\n",
              "    <div>\n",
              "            <script src=\"https://cdnjs.cloudflare.com/ajax/libs/mathjax/2.7.5/MathJax.js?config=TeX-AMS-MML_SVG\"></script><script type=\"text/javascript\">if (window.MathJax) {MathJax.Hub.Config({SVG: {font: \"STIX-Web\"}});}</script>\n",
              "                <script type=\"text/javascript\">window.PlotlyConfig = {MathJaxConfig: 'local'};</script>\n",
              "        <script src=\"https://cdn.plot.ly/plotly-latest.min.js\"></script>    \n",
              "            <div id=\"1d537e52-d6ca-4232-898d-35710571e067\" class=\"plotly-graph-div\" style=\"height:525px; width:100%;\"></div>\n",
              "            <script type=\"text/javascript\">\n",
              "                \n",
              "                    window.PLOTLYENV=window.PLOTLYENV || {};\n",
              "                    \n",
              "                if (document.getElementById(\"1d537e52-d6ca-4232-898d-35710571e067\")) {\n",
              "                    Plotly.newPlot(\n",
              "                        '1d537e52-d6ca-4232-898d-35710571e067',\n",
              "                        [{\"histfunc\": \"sum\", \"transforms\": [{\"groups\": [\"first_touch\", \"first_touch\", \"first_touch\", \"first_touch\", \"first_touch\", \"last_touch\", \"last_touch\", \"last_touch\", \"last_touch\", \"last_touch\", \"linear_touch\", \"linear_touch\", \"linear_touch\", \"linear_touch\", \"linear_touch\", \"markov_model\", \"markov_model\", \"markov_model\", \"markov_model\", \"markov_model\"], \"type\": \"groupby\"}], \"type\": \"histogram\", \"x\": [\"Instagram\", \"Online Display\", \"Paid Search\", \"Facebook\", \"Online Video\", \"Instagram\", \"Online Display\", \"Paid Search\", \"Facebook\", \"Online Video\", \"Instagram\", \"Online Display\", \"Paid Search\", \"Facebook\", \"Online Video\", \"Instagram\", \"Online Display\", \"Paid Search\", \"Facebook\", \"Online Video\"], \"y\": [14579.5, 13419.0, 29724.0, 32283.0, 20225.5, 14039.5, 13298.5, 28331.5, 33143.5, 21418.0, 14171.723841719675, 13205.187068031722, 29194.45858794034, 32614.30009397833, 21045.330408329908, 21930.79833307923, 12820.789073537633, 24762.060588504344, 32706.28893123952, 18011.063073639274]}],\n",
              "                        {},\n",
              "                        {\"responsive\": true}\n",
              "                    ).then(function(){\n",
              "                            \n",
              "var gd = document.getElementById('1d537e52-d6ca-4232-898d-35710571e067');\n",
              "var x = new MutationObserver(function (mutations, observer) {{\n",
              "        var display = window.getComputedStyle(gd).display;\n",
              "        if (!display || display === 'none') {{\n",
              "            console.log([gd, 'removed!']);\n",
              "            Plotly.purge(gd);\n",
              "            observer.disconnect();\n",
              "        }}\n",
              "}});\n",
              "\n",
              "// Listen for the removal of the full notebook cells\n",
              "var notebookContainer = gd.closest('#notebook-container');\n",
              "if (notebookContainer) {{\n",
              "    x.observe(notebookContainer, {childList: true});\n",
              "}}\n",
              "\n",
              "// Listen for the clearing of the current output cell\n",
              "var outputEl = gd.closest('.output');\n",
              "if (outputEl) {{\n",
              "    x.observe(outputEl, {childList: true});\n",
              "}}\n",
              "\n",
              "                        })\n",
              "                };\n",
              "                \n",
              "            </script>\n",
              "        </div>\n",
              "</body>\n",
              "</html>"
            ]
          },
          "metadata": {
            "tags": []
          }
        }
      ]
    },
    {
      "cell_type": "code",
      "metadata": {
        "colab": {
          "base_uri": "https://localhost:8080/",
          "height": 203
        },
        "id": "t50QxV6VJ6a_",
        "outputId": "790112af-0268-4c4c-859a-72deb4751ec5"
      },
      "source": [
        "from ChannelAttribution import transition_matrix \n",
        "transition_matrix = transition_matrix(clean_data, \"conv_path\", \"conversion\", var_null=\"var_null\")\n",
        "transition_matrix['transition_matrix'].head()"
      ],
      "execution_count": 133,
      "outputs": [
        {
          "output_type": "execute_result",
          "data": {
            "text/html": [
              "<div>\n",
              "<style scoped>\n",
              "    .dataframe tbody tr th:only-of-type {\n",
              "        vertical-align: middle;\n",
              "    }\n",
              "\n",
              "    .dataframe tbody tr th {\n",
              "        vertical-align: top;\n",
              "    }\n",
              "\n",
              "    .dataframe thead th {\n",
              "        text-align: right;\n",
              "    }\n",
              "</style>\n",
              "<table border=\"1\" class=\"dataframe\">\n",
              "  <thead>\n",
              "    <tr style=\"text-align: right;\">\n",
              "      <th></th>\n",
              "      <th>channel_from</th>\n",
              "      <th>channel_to</th>\n",
              "      <th>transition_probability</th>\n",
              "    </tr>\n",
              "  </thead>\n",
              "  <tbody>\n",
              "    <tr>\n",
              "      <th>0</th>\n",
              "      <td>(start)</td>\n",
              "      <td>1</td>\n",
              "      <td>0.119188</td>\n",
              "    </tr>\n",
              "    <tr>\n",
              "      <th>1</th>\n",
              "      <td>(start)</td>\n",
              "      <td>3</td>\n",
              "      <td>0.317399</td>\n",
              "    </tr>\n",
              "    <tr>\n",
              "      <th>2</th>\n",
              "      <td>(start)</td>\n",
              "      <td>4</td>\n",
              "      <td>0.278408</td>\n",
              "    </tr>\n",
              "    <tr>\n",
              "      <th>3</th>\n",
              "      <td>(start)</td>\n",
              "      <td>5</td>\n",
              "      <td>0.142361</td>\n",
              "    </tr>\n",
              "    <tr>\n",
              "      <th>4</th>\n",
              "      <td>(start)</td>\n",
              "      <td>2</td>\n",
              "      <td>0.142644</td>\n",
              "    </tr>\n",
              "  </tbody>\n",
              "</table>\n",
              "</div>"
            ],
            "text/plain": [
              "  channel_from channel_to  transition_probability\n",
              "0      (start)          1                0.119188\n",
              "1      (start)          3                0.317399\n",
              "2      (start)          4                0.278408\n",
              "3      (start)          5                0.142361\n",
              "4      (start)          2                0.142644"
            ]
          },
          "metadata": {
            "tags": []
          },
          "execution_count": 133
        }
      ]
    },
    {
      "cell_type": "code",
      "metadata": {
        "colab": {
          "base_uri": "https://localhost:8080/"
        },
        "id": "nOLTyvGoGgA4",
        "outputId": "e1d98b7d-fbc5-4f6a-909c-cb7bcd7b9709"
      },
      "source": [
        "transition_matrix"
      ],
      "execution_count": 134,
      "outputs": [
        {
          "output_type": "execute_result",
          "data": {
            "text/plain": [
              "{'channels':    id_channel    channel_name\n",
              " 0           1       Instagram\n",
              " 1           2  Online Display\n",
              " 2           3     Paid Search\n",
              " 3           4        Facebook\n",
              " 4           5    Online Video,\n",
              " 'transition_matrix':    channel_from    channel_to  transition_probability\n",
              " 0       (start)             1                0.119188\n",
              " 1       (start)             3                0.317399\n",
              " 2       (start)             4                0.278408\n",
              " 3       (start)             5                0.142361\n",
              " 4       (start)             2                0.142644\n",
              " 5             1             2                0.018683\n",
              " 6             1        (null)                0.363772\n",
              " 7             1             4                0.372522\n",
              " 8             1             5                0.022247\n",
              " 9             1             1                0.159586\n",
              " 10            1             3                0.033351\n",
              " 11            1  (conversion)                0.029840\n",
              " 12            2             2                0.349007\n",
              " 13            2        (null)                0.457025\n",
              " 14            2             3                0.077351\n",
              " 15            2             1                0.021069\n",
              " 16            2             5                0.016453\n",
              " 17            2             4                0.048992\n",
              " 18            2  (conversion)                0.030104\n",
              " 19            3             3                0.385981\n",
              " 20            3        (null)                0.443073\n",
              " 21            3  (conversion)                0.030025\n",
              " 22            3             5                0.024736\n",
              " 23            3             2                0.041475\n",
              " 24            3             4                0.052054\n",
              " 25            3             1                0.022656\n",
              " 26            4             4                0.373140\n",
              " 27            4             1                0.159394\n",
              " 28            4        (null)                0.363108\n",
              " 29            4  (conversion)                0.030164\n",
              " 30            4             5                0.021987\n",
              " 31            4             3                0.034010\n",
              " 32            4             2                0.018197\n",
              " 33            5             5                0.606062\n",
              " 34            5        (null)                0.280030\n",
              " 35            5             4                0.034765\n",
              " 36            5             3                0.024677\n",
              " 37            5             1                0.014492\n",
              " 38            5  (conversion)                0.030079\n",
              " 39            5             2                0.009894}"
            ]
          },
          "metadata": {
            "tags": []
          },
          "execution_count": 134
        }
      ]
    },
    {
      "cell_type": "code",
      "metadata": {
        "colab": {
          "base_uri": "https://localhost:8080/",
          "height": 265
        },
        "id": "eyheV8BMdWr8",
        "outputId": "94c87ed3-3b68-49ee-d717-1223d38c02ac"
      },
      "source": [
        "matrix = pd.pivot_table(transition_matrix['transition_matrix'], values='transition_probability', index=['channel_from'],\n",
        "                    columns=['channel_to'], aggfunc=np.sum)\n",
        "matrix"
      ],
      "execution_count": 135,
      "outputs": [
        {
          "output_type": "execute_result",
          "data": {
            "text/html": [
              "<div>\n",
              "<style scoped>\n",
              "    .dataframe tbody tr th:only-of-type {\n",
              "        vertical-align: middle;\n",
              "    }\n",
              "\n",
              "    .dataframe tbody tr th {\n",
              "        vertical-align: top;\n",
              "    }\n",
              "\n",
              "    .dataframe thead th {\n",
              "        text-align: right;\n",
              "    }\n",
              "</style>\n",
              "<table border=\"1\" class=\"dataframe\">\n",
              "  <thead>\n",
              "    <tr style=\"text-align: right;\">\n",
              "      <th>channel_to</th>\n",
              "      <th>(conversion)</th>\n",
              "      <th>(null)</th>\n",
              "      <th>1</th>\n",
              "      <th>2</th>\n",
              "      <th>3</th>\n",
              "      <th>4</th>\n",
              "      <th>5</th>\n",
              "    </tr>\n",
              "    <tr>\n",
              "      <th>channel_from</th>\n",
              "      <th></th>\n",
              "      <th></th>\n",
              "      <th></th>\n",
              "      <th></th>\n",
              "      <th></th>\n",
              "      <th></th>\n",
              "      <th></th>\n",
              "    </tr>\n",
              "  </thead>\n",
              "  <tbody>\n",
              "    <tr>\n",
              "      <th>(start)</th>\n",
              "      <td>NaN</td>\n",
              "      <td>NaN</td>\n",
              "      <td>0.119188</td>\n",
              "      <td>0.142644</td>\n",
              "      <td>0.317399</td>\n",
              "      <td>0.278408</td>\n",
              "      <td>0.142361</td>\n",
              "    </tr>\n",
              "    <tr>\n",
              "      <th>1</th>\n",
              "      <td>0.029840</td>\n",
              "      <td>0.363772</td>\n",
              "      <td>0.159586</td>\n",
              "      <td>0.018683</td>\n",
              "      <td>0.033351</td>\n",
              "      <td>0.372522</td>\n",
              "      <td>0.022247</td>\n",
              "    </tr>\n",
              "    <tr>\n",
              "      <th>2</th>\n",
              "      <td>0.030104</td>\n",
              "      <td>0.457025</td>\n",
              "      <td>0.021069</td>\n",
              "      <td>0.349007</td>\n",
              "      <td>0.077351</td>\n",
              "      <td>0.048992</td>\n",
              "      <td>0.016453</td>\n",
              "    </tr>\n",
              "    <tr>\n",
              "      <th>3</th>\n",
              "      <td>0.030025</td>\n",
              "      <td>0.443073</td>\n",
              "      <td>0.022656</td>\n",
              "      <td>0.041475</td>\n",
              "      <td>0.385981</td>\n",
              "      <td>0.052054</td>\n",
              "      <td>0.024736</td>\n",
              "    </tr>\n",
              "    <tr>\n",
              "      <th>4</th>\n",
              "      <td>0.030164</td>\n",
              "      <td>0.363108</td>\n",
              "      <td>0.159394</td>\n",
              "      <td>0.018197</td>\n",
              "      <td>0.034010</td>\n",
              "      <td>0.373140</td>\n",
              "      <td>0.021987</td>\n",
              "    </tr>\n",
              "    <tr>\n",
              "      <th>5</th>\n",
              "      <td>0.030079</td>\n",
              "      <td>0.280030</td>\n",
              "      <td>0.014492</td>\n",
              "      <td>0.009894</td>\n",
              "      <td>0.024677</td>\n",
              "      <td>0.034765</td>\n",
              "      <td>0.606062</td>\n",
              "    </tr>\n",
              "  </tbody>\n",
              "</table>\n",
              "</div>"
            ],
            "text/plain": [
              "channel_to    (conversion)    (null)         1  ...         3         4         5\n",
              "channel_from                                    ...                              \n",
              "(start)                NaN       NaN  0.119188  ...  0.317399  0.278408  0.142361\n",
              "1                 0.029840  0.363772  0.159586  ...  0.033351  0.372522  0.022247\n",
              "2                 0.030104  0.457025  0.021069  ...  0.077351  0.048992  0.016453\n",
              "3                 0.030025  0.443073  0.022656  ...  0.385981  0.052054  0.024736\n",
              "4                 0.030164  0.363108  0.159394  ...  0.034010  0.373140  0.021987\n",
              "5                 0.030079  0.280030  0.014492  ...  0.024677  0.034765  0.606062\n",
              "\n",
              "[6 rows x 7 columns]"
            ]
          },
          "metadata": {
            "tags": []
          },
          "execution_count": 135
        }
      ]
    },
    {
      "cell_type": "code",
      "metadata": {
        "id": "tOLe_lIbN2Ga"
      },
      "source": [
        "matrix=matrix.rename(columns={'1':'Instagram','2':'Online Display','3':'Paid Search','4':'Facebook','5':'Online Video'},\n",
        "              index={'1':'Instagram','2':'Online Display','3':'Paid Search','4':'Facebook','5':'Online Video'})"
      ],
      "execution_count": 136,
      "outputs": []
    },
    {
      "cell_type": "code",
      "metadata": {
        "id": "CnM7-ZzHhPU0",
        "colab": {
          "base_uri": "https://localhost:8080/"
        },
        "outputId": "75a634aa-9485-46c2-ff28-4496c6725ac4"
      },
      "source": [
        "print(help(mm))"
      ],
      "execution_count": 137,
      "outputs": [
        {
          "output_type": "stream",
          "text": [
            "Help on built-in function markov_model in module ChannelAttribution:\n",
            "\n",
            "markov_model(...)\n",
            "    markov_model(Data, var_path, var_conv, var_value=None, var_null=None, order=1, nsim_start=1e5, max_step=None, out_more=False, sep=u'>', ncore=1, nfold=10, seed=0, conv_par=0.05, rate_step_sim=1.5, verbose=True)\n",
            "    \n",
            "    \n",
            "    Estimate a k-order Markov model from customer journey data. Differently from markov_model, this function iterates estimation until a desidered convergence is reached and enables multiprocessing.\n",
            "    \n",
            "    Parameters\n",
            "    ----------\n",
            "    Data : DataFrame\n",
            "        customer journeys.\n",
            "    var_path: string\n",
            "        column of Data containing paths.\n",
            "    var_conv : string\n",
            "        column of Data containing total conversions for each path.\n",
            "    var_value : string, optional, default None\n",
            "        column of Data containing revenue for each path.\n",
            "    var_null : string\n",
            "        column of Data containing total paths that do not lead to conversion.\n",
            "    order : int, default 1\n",
            "        Markov model order.        \n",
            "    nsim_start : int, default 1e5\n",
            "        minimum number of simulations to be used in computation.        \n",
            "    max_step : int, default None\n",
            "        maximum number of steps for a single simulated path. if NULL, it is the maximum number of steps found into Data.        \n",
            "    out_more : bool, default False\n",
            "        if True, transition probabilities between channels and removal effects will be returned.                \n",
            "    sep : string, default \">\"\n",
            "        separator between the channels.    \n",
            "    ncore : int, default 1\n",
            "        number of threads to be used in computation.        \n",
            "    nfold : int, default 10\n",
            "        how many repetitions to be used to verify if convergence has been reached at each iteration.    \n",
            "    seed : int, default 0\n",
            "        random seed. Giving this parameter the same value over different runs guarantees that results will not vary.    \n",
            "    conv_par : double, default 0.05\n",
            "        convergence parameter for the algorithm. The estimation process ends when the percentage of variation of the results over different repetions is less than convergence parameter.    \n",
            "    rate_step_sim : double, default 0\n",
            "        number of simulations used at each iteration is equal to the number of simulations used at previous iteration multiplied by rate_step_sim.    \n",
            "    verbose : bool, default True\n",
            "        if True, additional information about process convergence will be shown.    \n",
            "            \n",
            "    Returns\n",
            "    -------\n",
            "    list of DataFrames\n",
            "        result: Dataframe\n",
            "            (column) channel_name : channel names\n",
            "            (column) total_conversions : conversions attributed to each channel\n",
            "            (column) total_conversion_value : revenues attributed to each channel\n",
            "        transition_matrix : DataFrame\n",
            "            (column) channel_from: channel from\n",
            "            (column) channel_to : channel to\n",
            "            (column) transition_probability : transition probability from channel_from to channel_to\n",
            "        removal_effects:\n",
            "            (column) channel_name : channel names \n",
            "            (column) removal_effects_conversion : removal effects for each channel calculated using total conversions\n",
            "            (column) removal_effects_conversion_value : removal effects for each channel calculated using revenues\n",
            "                \n",
            "                        \n",
            "    Examples\n",
            "    --------\n",
            "    \n",
            "    Load Data\n",
            "    \n",
            "    >>> import pandas as pd    \n",
            "    >>> from ChannelAttribution import *\n",
            "    >>> Data = pd.read_csv('http://www.channelattribution.net/csv/Data.csv',sep=\";\")\n",
            "    \n",
            "    Estimate a Makov model using total conversions \n",
            "    \n",
            "    >>> markov_model(Data, \"path\", \"total_conversions\")\n",
            "    \n",
            "    Estimate a Makov model using total conversions and revenues \n",
            "    \n",
            "    >>> markov_model(Data, \"path\", \"total_conversions\", var_value=\"total_conversion_value\")\n",
            "    \n",
            "    Estimate a Makov model using total conversions, revenues and paths that do not lead to conversions \n",
            "    \n",
            "    >>> markov_model(Data, \"path\", \"total_conversions\", var_value=\"total_conversion_value\", var_null=\"total_null\")\n",
            "    \n",
            "    Estimate a Makov model returning transition matrix and removal effects \n",
            "    \n",
            "    >>> markov_model(Data, \"path\", \"total_conversions\", var_value=\"total_conversion_value\", var_null=\"total_null\", out_more=True)\n",
            "    \n",
            "    Estimate a Markov model using 4 threads\n",
            "    \n",
            "    >>> markov_model(Data, \"path\", \"total_conversions\", var_value=\"total_conversion_value\", ncore=4)\n",
            "\n",
            "None\n"
          ],
          "name": "stdout"
        }
      ]
    },
    {
      "cell_type": "code",
      "metadata": {
        "colab": {
          "base_uri": "https://localhost:8080/"
        },
        "id": "MEIoolH9c4g3",
        "outputId": "fba9e12c-7d83-45a8-9d36-e04d73340883"
      },
      "source": [
        "pip install pychattr"
      ],
      "execution_count": 138,
      "outputs": [
        {
          "output_type": "stream",
          "text": [
            "Requirement already satisfied: pychattr in /usr/local/lib/python3.7/dist-packages (0.2.1)\n",
            "Requirement already satisfied: pandas in /usr/local/lib/python3.7/dist-packages (from pychattr) (1.1.5)\n",
            "Requirement already satisfied: numpy in /usr/local/lib/python3.7/dist-packages (from pychattr) (1.19.5)\n",
            "Requirement already satisfied: python-dateutil>=2.7.3 in /usr/local/lib/python3.7/dist-packages (from pandas->pychattr) (2.8.1)\n",
            "Requirement already satisfied: pytz>=2017.2 in /usr/local/lib/python3.7/dist-packages (from pandas->pychattr) (2018.9)\n",
            "Requirement already satisfied: six>=1.5 in /usr/local/lib/python3.7/dist-packages (from python-dateutil>=2.7.3->pandas->pychattr) (1.15.0)\n"
          ],
          "name": "stdout"
        }
      ]
    },
    {
      "cell_type": "code",
      "metadata": {
        "id": "MhlHz3Zpgh6W"
      },
      "source": [
        "from pychattr.channel_attribution import MarkovModel"
      ],
      "execution_count": 139,
      "outputs": []
    },
    {
      "cell_type": "code",
      "metadata": {
        "colab": {
          "base_uri": "https://localhost:8080/"
        },
        "id": "nCQeR9azgofY",
        "outputId": "e376b7b9-cf7f-4cab-89d8-c72b7a4ea7c1"
      },
      "source": [
        "print(help(MarkovModel))"
      ],
      "execution_count": 140,
      "outputs": [
        {
          "output_type": "stream",
          "text": [
            "Help on class MarkovModel in module pychattr.channel_attribution.markov:\n",
            "\n",
            "class MarkovModel(pychattr.channel_attribution._mixins.MarkovModelMixin)\n",
            " |  MarkovModel(path_feature, conversion_feature, null_feature=None, revenue_feature=None, cost_feature=None, separator='>>>', k_order=1, n_simulations=10000, max_steps=None, return_transition_probs=True, random_state=None, loops=True)\n",
            " |  \n",
            " |  Markov channel attribution model.\n",
            " |  \n",
            " |  Parameters\n",
            " |  ----------\n",
            " |  path_feature: string; required.\n",
            " |    The name of the feature containing the paths.\n",
            " |  \n",
            " |  conversion_feature: string; required.\n",
            " |    The name of the feature indicating whether the path resulted in a\n",
            " |    conversion.\n",
            " |  \n",
            " |    NOTE: When using Markov attribution, do not pre-aggregate\n",
            " |    conversions by path as this will effect the outcome of the\n",
            " |    simulation.\n",
            " |  \n",
            " |  null_feature: string; default=None; optional.\n",
            " |    The name of the feature indicating whether the path resulted in a\n",
            " |    non-conversion.\n",
            " |  \n",
            " |    NOTE: When using Markov attribution, do not pre-aggregate\n",
            " |    non-conversions by path as this will effect the outcome of the\n",
            " |    simulation.\n",
            " |  \n",
            " |  revenue_feature: string; default=None; optional.\n",
            " |    The name of the feature containing the revenue generated\n",
            " |    for each path.\n",
            " |  \n",
            " |    NOTE: The values contained within this feature\n",
            " |    must be numeric.\n",
            " |  \n",
            " |  cost_feature: string; default=None; optional.\n",
            " |    The name of the feature containing the cost incurred for\n",
            " |    each path.\n",
            " |  \n",
            " |    NOTE: The values contained within this feature must\n",
            " |    be numeric.\n",
            " |  \n",
            " |  separator: string; default=\">>>\"; required.\n",
            " |    The symbol used to separate the channels in each path.\n",
            " |  \n",
            " |  k_order : int; default=1.\n",
            " |    denotes the order, or \"memory\" of the Markov model.\n",
            " |  \n",
            " |  n_simulations : one of {int, None}; default=10000.\n",
            " |    total simulations from the transition matrix.\n",
            " |  \n",
            " |  max_steps : one of {int, None}; default=None.\n",
            " |    the maximum number of steps for a single simulated path.\n",
            " |  \n",
            " |  return_transition_probs : bool; required; default=True.\n",
            " |    whether to return the transition probabilities between\n",
            " |    channels and removal effects.\n",
            " |  \n",
            " |  random_state : one of {int, None}; optional; default=None.\n",
            " |    the seed used by the random number generator; ensures\n",
            " |    reproducibility between runs when specified.\n",
            " |  \n",
            " |  loops : bool; required; default=True.\n",
            " |    whether to estimate loops, i.e., going from state A\n",
            " |    to state A.\n",
            " |  \n",
            " |  Attributes\n",
            " |  ----------\n",
            " |  attribution_model_: The attribution model output.\n",
            " |  \n",
            " |  transition_matrix_: The transition probability matrix.\n",
            " |  \n",
            " |  removal_effects_: The removal effects for each channel.\n",
            " |  \n",
            " |  References\n",
            " |  ----------\n",
            " |  https://www.bizible.com/blog/multi-touch-attribution-full-debrief\n",
            " |  https://cran.r-project.org/web/packages/ChannelAttribution\n",
            " |  /ChannelAttribution.pdf\n",
            " |  \n",
            " |  Method resolution order:\n",
            " |      MarkovModel\n",
            " |      pychattr.channel_attribution._mixins.MarkovModelMixin\n",
            " |      pychattr.channel_attribution._mixins.AttributionModelBase\n",
            " |      builtins.object\n",
            " |  \n",
            " |  Methods defined here:\n",
            " |  \n",
            " |  __init__(self, path_feature, conversion_feature, null_feature=None, revenue_feature=None, cost_feature=None, separator='>>>', k_order=1, n_simulations=10000, max_steps=None, return_transition_probs=True, random_state=None, loops=True)\n",
            " |      Initialize self.  See help(type(self)) for accurate signature.\n",
            " |  \n",
            " |  fit(self, df)\n",
            " |      Parameters\n",
            " |      ----------\n",
            " |      df: pandas.DataFrame; required.\n",
            " |          The dataframe containing the path data to be modeled.\n",
            " |      \n",
            " |      Returns\n",
            " |      -------\n",
            " |      self: returns a fitted instance of self.\n",
            " |  \n",
            " |  ----------------------------------------------------------------------\n",
            " |  Data and other attributes defined here:\n",
            " |  \n",
            " |  __abstractmethods__ = frozenset()\n",
            " |  \n",
            " |  ----------------------------------------------------------------------\n",
            " |  Data descriptors inherited from pychattr.channel_attribution._mixins.AttributionModelBase:\n",
            " |  \n",
            " |  __dict__\n",
            " |      dictionary for instance variables (if defined)\n",
            " |  \n",
            " |  __weakref__\n",
            " |      list of weak references to the object (if defined)\n",
            "\n",
            "None\n"
          ],
          "name": "stdout"
        }
      ]
    },
    {
      "cell_type": "code",
      "metadata": {
        "colab": {
          "base_uri": "https://localhost:8080/"
        },
        "id": "Bxgk-9qhgzhT",
        "outputId": "594ce1c0-e559-4827-c294-f29dc754f4f0"
      },
      "source": [
        "mm1=MarkovModel(path_feature='conv_path',conversion_feature='conversion',revenue_feature='conversion_value',separator='>')\n",
        "mm1.fit(clean_data)"
      ],
      "execution_count": 141,
      "outputs": [
        {
          "output_type": "execute_result",
          "data": {
            "text/plain": [
              "<pychattr.channel_attribution.markov.MarkovModel at 0x7f9f30cffd10>"
            ]
          },
          "metadata": {
            "tags": []
          },
          "execution_count": 141
        }
      ]
    },
    {
      "cell_type": "code",
      "metadata": {
        "id": "VwzeFzexj0EY"
      },
      "source": [
        "removal_effect=mm1.removal_effects_"
      ],
      "execution_count": 142,
      "outputs": []
    },
    {
      "cell_type": "code",
      "metadata": {
        "id": "Y50SpIQCj2i1"
      },
      "source": [
        "markov_model=removal_effect.drop(['removal_effect'],axis=1)\n"
      ],
      "execution_count": 143,
      "outputs": []
    },
    {
      "cell_type": "code",
      "metadata": {
        "id": "JA5Zv4snjsgb"
      },
      "source": [
        "column_names=['channel_name','value_weightage']\n",
        "first_touch = pd.DataFrame(columns = column_names)\n",
        "last_touch = pd.DataFrame(columns = column_names)\n",
        "linear_touch = pd.DataFrame(columns = column_names)"
      ],
      "execution_count": 144,
      "outputs": []
    },
    {
      "cell_type": "code",
      "metadata": {
        "id": "lVLA33iRjlp8"
      },
      "source": [
        "first_touch['channel_name']=R['channel_name']\n",
        "first_touch['value_weightage']=R['first_touch_value']/R['total_conversion_value']\n",
        "\n",
        "last_touch['channel_name']=R['channel_name']\n",
        "last_touch['value_weightage']=R['last_touch_value']/R['total_conversion_value']\n",
        "\n",
        "linear_touch['channel_name']=R['channel_name']\n",
        "linear_touch['value_weightage']=R['linear_touch_value']/R['total_conversion_value']"
      ],
      "execution_count": 145,
      "outputs": []
    },
    {
      "cell_type": "code",
      "metadata": {
        "id": "z3jYqFoHjorT"
      },
      "source": [
        "first_touch['value_weightage']=first_touch['value_weightage']/first_touch['value_weightage'].sum()\n",
        "last_touch['value_weightage']=last_touch['value_weightage']/last_touch['value_weightage'].sum()\n",
        "linear_touch['value_weightage']=linear_touch['value_weightage']/linear_touch['value_weightage'].sum()"
      ],
      "execution_count": 146,
      "outputs": []
    },
    {
      "cell_type": "code",
      "metadata": {
        "id": "U5AweqXnURCz"
      },
      "source": [
        "markov_model['removal_effect_value']=markov_model['removal_effect_value']/markov_model['removal_effect_value'].sum()\n",
        "markov_model.rename(columns = {'removal_effect_value':'value_weightage'}, inplace = True)"
      ],
      "execution_count": 147,
      "outputs": []
    },
    {
      "cell_type": "markdown",
      "metadata": {
        "id": "_nbQB2JjD-oQ"
      },
      "source": [
        " \n",
        "#### Value Weightage: Percentage of revenue derieved from a particular channel "
      ]
    },
    {
      "cell_type": "code",
      "metadata": {
        "colab": {
          "base_uri": "https://localhost:8080/",
          "height": 203
        },
        "id": "vZpPvOxiUo3M",
        "outputId": "f6f8e71b-d2d0-4eb6-d179-999324ab50df"
      },
      "source": [
        "first_touch"
      ],
      "execution_count": 148,
      "outputs": [
        {
          "output_type": "execute_result",
          "data": {
            "text/html": [
              "<div>\n",
              "<style scoped>\n",
              "    .dataframe tbody tr th:only-of-type {\n",
              "        vertical-align: middle;\n",
              "    }\n",
              "\n",
              "    .dataframe tbody tr th {\n",
              "        vertical-align: top;\n",
              "    }\n",
              "\n",
              "    .dataframe thead th {\n",
              "        text-align: right;\n",
              "    }\n",
              "</style>\n",
              "<table border=\"1\" class=\"dataframe\">\n",
              "  <thead>\n",
              "    <tr style=\"text-align: right;\">\n",
              "      <th></th>\n",
              "      <th>channel_name</th>\n",
              "      <th>value_weightage</th>\n",
              "    </tr>\n",
              "  </thead>\n",
              "  <tbody>\n",
              "    <tr>\n",
              "      <th>0</th>\n",
              "      <td>Instagram</td>\n",
              "      <td>0.132381</td>\n",
              "    </tr>\n",
              "    <tr>\n",
              "      <th>1</th>\n",
              "      <td>Online Display</td>\n",
              "      <td>0.208421</td>\n",
              "    </tr>\n",
              "    <tr>\n",
              "      <th>2</th>\n",
              "      <td>Paid Search</td>\n",
              "      <td>0.239033</td>\n",
              "    </tr>\n",
              "    <tr>\n",
              "      <th>3</th>\n",
              "      <td>Facebook</td>\n",
              "      <td>0.196553</td>\n",
              "    </tr>\n",
              "    <tr>\n",
              "      <th>4</th>\n",
              "      <td>Online Video</td>\n",
              "      <td>0.223613</td>\n",
              "    </tr>\n",
              "  </tbody>\n",
              "</table>\n",
              "</div>"
            ],
            "text/plain": [
              "     channel_name  value_weightage\n",
              "0       Instagram         0.132381\n",
              "1  Online Display         0.208421\n",
              "2     Paid Search         0.239033\n",
              "3        Facebook         0.196553\n",
              "4    Online Video         0.223613"
            ]
          },
          "metadata": {
            "tags": []
          },
          "execution_count": 148
        }
      ]
    },
    {
      "cell_type": "code",
      "metadata": {
        "colab": {
          "base_uri": "https://localhost:8080/",
          "height": 463
        },
        "id": "I-tAQEGbnfSd",
        "outputId": "1db4954e-e78e-4c93-8169-dbf4b4972dc8"
      },
      "source": [
        "import matplotlib.pyplot as plt\n",
        "plt.figure(figsize=(10,7))\n",
        "plt.bar(first_touch['channel_name'],first_touch['value_weightage'])\n",
        "plt.xlabel(\"Channels\",fontsize=16)\n",
        "plt.ylabel(\"ROI (%)\",fontsize=16)\n",
        "plt.title('First Touch', fontweight='bold')\n",
        "plt.show()\n"
      ],
      "execution_count": 149,
      "outputs": [
        {
          "output_type": "display_data",
          "data": {
            "image/png": "[encoded data removed]",
            "text/plain": [
              "<Figure size 720x504 with 1 Axes>"
            ]
          },
          "metadata": {
            "tags": [],
            "needs_background": "light"
          }
        }
      ]
    },
    {
      "cell_type": "code",
      "metadata": {
        "colab": {
          "base_uri": "https://localhost:8080/",
          "height": 203
        },
        "id": "l3IK_XlFVI6S",
        "outputId": "bfa89f10-ac71-4138-8f87-ca8462061c08"
      },
      "source": [
        "linear_touch"
      ],
      "execution_count": 150,
      "outputs": [
        {
          "output_type": "execute_result",
          "data": {
            "text/html": [
              "<div>\n",
              "<style scoped>\n",
              "    .dataframe tbody tr th:only-of-type {\n",
              "        vertical-align: middle;\n",
              "    }\n",
              "\n",
              "    .dataframe tbody tr th {\n",
              "        vertical-align: top;\n",
              "    }\n",
              "\n",
              "    .dataframe thead th {\n",
              "        text-align: right;\n",
              "    }\n",
              "</style>\n",
              "<table border=\"1\" class=\"dataframe\">\n",
              "  <thead>\n",
              "    <tr style=\"text-align: right;\">\n",
              "      <th></th>\n",
              "      <th>channel_name</th>\n",
              "      <th>value_weightage</th>\n",
              "    </tr>\n",
              "  </thead>\n",
              "  <tbody>\n",
              "    <tr>\n",
              "      <th>0</th>\n",
              "      <td>Instagram</td>\n",
              "      <td>0.128704</td>\n",
              "    </tr>\n",
              "    <tr>\n",
              "      <th>1</th>\n",
              "      <td>Online Display</td>\n",
              "      <td>0.205142</td>\n",
              "    </tr>\n",
              "    <tr>\n",
              "      <th>2</th>\n",
              "      <td>Paid Search</td>\n",
              "      <td>0.234821</td>\n",
              "    </tr>\n",
              "    <tr>\n",
              "      <th>3</th>\n",
              "      <td>Facebook</td>\n",
              "      <td>0.198610</td>\n",
              "    </tr>\n",
              "    <tr>\n",
              "      <th>4</th>\n",
              "      <td>Online Video</td>\n",
              "      <td>0.232723</td>\n",
              "    </tr>\n",
              "  </tbody>\n",
              "</table>\n",
              "</div>"
            ],
            "text/plain": [
              "     channel_name  value_weightage\n",
              "0       Instagram         0.128704\n",
              "1  Online Display         0.205142\n",
              "2     Paid Search         0.234821\n",
              "3        Facebook         0.198610\n",
              "4    Online Video         0.232723"
            ]
          },
          "metadata": {
            "tags": []
          },
          "execution_count": 150
        }
      ]
    },
    {
      "cell_type": "code",
      "metadata": {
        "colab": {
          "base_uri": "https://localhost:8080/",
          "height": 463
        },
        "id": "8AodWvlJnVu8",
        "outputId": "7a04b07c-a9cf-4036-9354-476971561f10"
      },
      "source": [
        "plt.figure(figsize=(10,7))\n",
        "plt.bar(linear_touch['channel_name'],linear_touch['value_weightage'])\n",
        "plt.xlabel(\"Channels\",fontsize=16)\n",
        "plt.ylabel(\"ROI (%)\",fontsize=16)\n",
        "plt.title('Linear Touch', fontweight='bold')\n",
        "plt.show()\n"
      ],
      "execution_count": 151,
      "outputs": [
        {
          "output_type": "display_data",
          "data": {
            "image/png": "[encoded data removed]",
            "text/plain": [
              "<Figure size 720x504 with 1 Axes>"
            ]
          },
          "metadata": {
            "tags": [],
            "needs_background": "light"
          }
        }
      ]
    },
    {
      "cell_type": "code",
      "metadata": {
        "colab": {
          "base_uri": "https://localhost:8080/",
          "height": 203
        },
        "id": "3UBsFVCq_Oq_",
        "outputId": "2de7a3ce-c696-4b85-d13d-c705e5469ef1"
      },
      "source": [
        "last_touch"
      ],
      "execution_count": 152,
      "outputs": [
        {
          "output_type": "execute_result",
          "data": {
            "text/html": [
              "<div>\n",
              "<style scoped>\n",
              "    .dataframe tbody tr th:only-of-type {\n",
              "        vertical-align: middle;\n",
              "    }\n",
              "\n",
              "    .dataframe tbody tr th {\n",
              "        vertical-align: top;\n",
              "    }\n",
              "\n",
              "    .dataframe thead th {\n",
              "        text-align: right;\n",
              "    }\n",
              "</style>\n",
              "<table border=\"1\" class=\"dataframe\">\n",
              "  <thead>\n",
              "    <tr style=\"text-align: right;\">\n",
              "      <th></th>\n",
              "      <th>channel_name</th>\n",
              "      <th>value_weightage</th>\n",
              "    </tr>\n",
              "  </thead>\n",
              "  <tbody>\n",
              "    <tr>\n",
              "      <th>0</th>\n",
              "      <td>Instagram</td>\n",
              "      <td>0.127420</td>\n",
              "    </tr>\n",
              "    <tr>\n",
              "      <th>1</th>\n",
              "      <td>Online Display</td>\n",
              "      <td>0.206457</td>\n",
              "    </tr>\n",
              "    <tr>\n",
              "      <th>2</th>\n",
              "      <td>Paid Search</td>\n",
              "      <td>0.227732</td>\n",
              "    </tr>\n",
              "    <tr>\n",
              "      <th>3</th>\n",
              "      <td>Facebook</td>\n",
              "      <td>0.201701</td>\n",
              "    </tr>\n",
              "    <tr>\n",
              "      <th>4</th>\n",
              "      <td>Online Video</td>\n",
              "      <td>0.236690</td>\n",
              "    </tr>\n",
              "  </tbody>\n",
              "</table>\n",
              "</div>"
            ],
            "text/plain": [
              "     channel_name  value_weightage\n",
              "0       Instagram         0.127420\n",
              "1  Online Display         0.206457\n",
              "2     Paid Search         0.227732\n",
              "3        Facebook         0.201701\n",
              "4    Online Video         0.236690"
            ]
          },
          "metadata": {
            "tags": []
          },
          "execution_count": 152
        }
      ]
    },
    {
      "cell_type": "code",
      "metadata": {
        "colab": {
          "base_uri": "https://localhost:8080/",
          "height": 463
        },
        "id": "C_SHw8KZnPnE",
        "outputId": "0645cc98-b750-4861-d353-2b9f88afa918"
      },
      "source": [
        "plt.figure(figsize=(10,7))\n",
        "plt.bar(last_touch['channel_name'],last_touch['value_weightage'])\n",
        "plt.xlabel(\"Channels\",fontsize=16)\n",
        "plt.ylabel(\"ROI (%)\",fontsize=16)\n",
        "plt.title('Last Touch', fontweight='bold')\n",
        "plt.show()\n"
      ],
      "execution_count": 153,
      "outputs": [
        {
          "output_type": "display_data",
          "data": {
            "image/png": "[encoded data removed]",
            "text/plain": [
              "<Figure size 720x504 with 1 Axes>"
            ]
          },
          "metadata": {
            "tags": [],
            "needs_background": "light"
          }
        }
      ]
    },
    {
      "cell_type": "code",
      "metadata": {
        "colab": {
          "base_uri": "https://localhost:8080/",
          "height": 501
        },
        "id": "XnDhYt6_UQl5",
        "outputId": "fc266150-d49b-4e6d-ccb2-ff87aeea5d9e"
      },
      "source": [
        "import seaborn as sns\n",
        "fig = plt.figure(figsize = (14,8))\n",
        "sns.heatmap(matrix,annot=True)\n",
        "plt.xlabel(\"Channel From\",fontsize=14)\n",
        "plt.ylabel(\"Channel To\",fontsize=14)\n",
        "plt.show()"
      ],
      "execution_count": 154,
      "outputs": [
        {
          "output_type": "display_data",
          "data": {
            "image/png": "[encoded data removed]",
            "text/plain": [
              "<Figure size 1008x576 with 2 Axes>"
            ]
          },
          "metadata": {
            "tags": [],
            "needs_background": "light"
          }
        }
      ]
    },
    {
      "cell_type": "code",
      "metadata": {
        "colab": {
          "base_uri": "https://localhost:8080/",
          "height": 203
        },
        "id": "9GAAjWdiUdTA",
        "outputId": "42e7d7b5-071c-4b05-ed6d-6e6b47af929b"
      },
      "source": [
        "removal_effect"
      ],
      "execution_count": 155,
      "outputs": [
        {
          "output_type": "execute_result",
          "data": {
            "text/html": [
              "<div>\n",
              "<style scoped>\n",
              "    .dataframe tbody tr th:only-of-type {\n",
              "        vertical-align: middle;\n",
              "    }\n",
              "\n",
              "    .dataframe tbody tr th {\n",
              "        vertical-align: top;\n",
              "    }\n",
              "\n",
              "    .dataframe thead th {\n",
              "        text-align: right;\n",
              "    }\n",
              "</style>\n",
              "<table border=\"1\" class=\"dataframe\">\n",
              "  <thead>\n",
              "    <tr style=\"text-align: right;\">\n",
              "      <th></th>\n",
              "      <th>channel_name</th>\n",
              "      <th>removal_effect</th>\n",
              "      <th>removal_effect_value</th>\n",
              "    </tr>\n",
              "  </thead>\n",
              "  <tbody>\n",
              "    <tr>\n",
              "      <th>0</th>\n",
              "      <td>Instagram</td>\n",
              "      <td>0.3103</td>\n",
              "      <td>0.310868</td>\n",
              "    </tr>\n",
              "    <tr>\n",
              "      <th>1</th>\n",
              "      <td>Online Display</td>\n",
              "      <td>0.1813</td>\n",
              "      <td>0.179455</td>\n",
              "    </tr>\n",
              "    <tr>\n",
              "      <th>2</th>\n",
              "      <td>Paid Search</td>\n",
              "      <td>0.3595</td>\n",
              "      <td>0.358910</td>\n",
              "    </tr>\n",
              "    <tr>\n",
              "      <th>3</th>\n",
              "      <td>Facebook</td>\n",
              "      <td>0.4614</td>\n",
              "      <td>0.461955</td>\n",
              "    </tr>\n",
              "    <tr>\n",
              "      <th>4</th>\n",
              "      <td>Online Video</td>\n",
              "      <td>0.2489</td>\n",
              "      <td>0.249712</td>\n",
              "    </tr>\n",
              "  </tbody>\n",
              "</table>\n",
              "</div>"
            ],
            "text/plain": [
              "     channel_name  removal_effect  removal_effect_value\n",
              "0       Instagram          0.3103              0.310868\n",
              "1  Online Display          0.1813              0.179455\n",
              "2     Paid Search          0.3595              0.358910\n",
              "3        Facebook          0.4614              0.461955\n",
              "4    Online Video          0.2489              0.249712"
            ]
          },
          "metadata": {
            "tags": []
          },
          "execution_count": 155
        }
      ]
    },
    {
      "cell_type": "code",
      "metadata": {
        "colab": {
          "base_uri": "https://localhost:8080/",
          "height": 203
        },
        "id": "4tXoJYKTUVjV",
        "outputId": "a5326395-f781-455c-e46d-46569b245982"
      },
      "source": [
        "markov_model"
      ],
      "execution_count": 156,
      "outputs": [
        {
          "output_type": "execute_result",
          "data": {
            "text/html": [
              "<div>\n",
              "<style scoped>\n",
              "    .dataframe tbody tr th:only-of-type {\n",
              "        vertical-align: middle;\n",
              "    }\n",
              "\n",
              "    .dataframe tbody tr th {\n",
              "        vertical-align: top;\n",
              "    }\n",
              "\n",
              "    .dataframe thead th {\n",
              "        text-align: right;\n",
              "    }\n",
              "</style>\n",
              "<table border=\"1\" class=\"dataframe\">\n",
              "  <thead>\n",
              "    <tr style=\"text-align: right;\">\n",
              "      <th></th>\n",
              "      <th>channel_name</th>\n",
              "      <th>value_weightage</th>\n",
              "    </tr>\n",
              "  </thead>\n",
              "  <tbody>\n",
              "    <tr>\n",
              "      <th>0</th>\n",
              "      <td>Instagram</td>\n",
              "      <td>0.199159</td>\n",
              "    </tr>\n",
              "    <tr>\n",
              "      <th>1</th>\n",
              "      <td>Online Display</td>\n",
              "      <td>0.114969</td>\n",
              "    </tr>\n",
              "    <tr>\n",
              "      <th>2</th>\n",
              "      <td>Paid Search</td>\n",
              "      <td>0.229938</td>\n",
              "    </tr>\n",
              "    <tr>\n",
              "      <th>3</th>\n",
              "      <td>Facebook</td>\n",
              "      <td>0.295954</td>\n",
              "    </tr>\n",
              "    <tr>\n",
              "      <th>4</th>\n",
              "      <td>Online Video</td>\n",
              "      <td>0.159980</td>\n",
              "    </tr>\n",
              "  </tbody>\n",
              "</table>\n",
              "</div>"
            ],
            "text/plain": [
              "     channel_name  value_weightage\n",
              "0       Instagram         0.199159\n",
              "1  Online Display         0.114969\n",
              "2     Paid Search         0.229938\n",
              "3        Facebook         0.295954\n",
              "4    Online Video         0.159980"
            ]
          },
          "metadata": {
            "tags": []
          },
          "execution_count": 156
        }
      ]
    },
    {
      "cell_type": "code",
      "metadata": {
        "colab": {
          "base_uri": "https://localhost:8080/",
          "height": 463
        },
        "id": "r5XsSPZRm3Pt",
        "outputId": "58ede9c9-09e7-4885-a29a-b7417855a859"
      },
      "source": [
        "plt.figure(figsize=(10,7))\n",
        "plt.bar(markov_model['channel_name'],markov_model['value_weightage'])\n",
        "plt.xlabel(\"Channels\",fontsize=16)\n",
        "plt.ylabel(\"ROI (%)\",fontsize=16)\n",
        "plt.title('Markov Chains', fontweight='bold')\n",
        "plt.show()\n"
      ],
      "execution_count": 157,
      "outputs": [
        {
          "output_type": "display_data",
          "data": {
            "image/png": "[encoded data removed]",
            "text/plain": [
              "<Figure size 720x504 with 1 Axes>"
            ]
          },
          "metadata": {
            "tags": [],
            "needs_background": "light"
          }
        }
      ]
    },
    {
      "cell_type": "code",
      "metadata": {
        "id": "nESHxxHmFce-"
      },
      "source": [
        "def mainMenu():\n",
        "  print(\"Enter the amount you wish to spend on your campaign:\"+'\\033[0m',end=\"\")\n",
        "  amt=int(input())\n",
        "  print(\"Select the model befitted for your campaign\"+'\\033[0m')\n",
        "  print(\"1. First Touch \")\n",
        "  print(\"2. Last Touch \")\n",
        "  print(\"3. Linear Touch \")\n",
        "  print(\"4. Markov Chains \")\n",
        "  print(\"Enter the Option Number:\"+'\\033[0m', end=\"\" )\n",
        "  selection=int(input())\n",
        "  if selection==1:\n",
        "    first=first_touch.copy()\n",
        "    first['value_weightage'] = first['value_weightage'].apply(lambda x: x*amt)\n",
        "    first.rename(columns = {'value_weightage':'Amount to spend'}, inplace = True)\n",
        "    print(first)\n",
        "  if selection==2:\n",
        "    last=last_touch.copy()\n",
        "    last['value_weightage'] = last['value_weightage'].apply(lambda x: x*amt)\n",
        "    last.rename(columns = {'value_weightage':'Amount to spend'}, inplace = True)\n",
        "    print(last)\n",
        "  if selection==3:\n",
        "    linear=linear_touch.copy()\n",
        "    linear['value_weightage'] = linear['value_weightage'].apply(lambda x: x*amt)\n",
        "    linear.rename(columns = {'value_weightage':'Amount to spend'}, inplace = True)\n",
        "    print(linear)\n",
        "  if selection==4:\n",
        "    mm2=markov_model.copy()\n",
        "    mm2['value_weightage'] = mm2['value_weightage'].apply(lambda x: x*amt)\n",
        "    mm2.rename(columns = {'value_weightage':'Amount to spend'}, inplace = True)\n",
        "    print(mm2)"
      ],
      "execution_count": 158,
      "outputs": []
    },
    {
      "cell_type": "code",
      "metadata": {
        "colab": {
          "base_uri": "https://localhost:8080/"
        },
        "id": "Yc6P0r22PYvY",
        "outputId": "f4719c57-dee2-4a67-c526-6cdf51414352"
      },
      "source": [
        "mainMenu()"
      ],
      "execution_count": 159,
      "outputs": [
        {
          "output_type": "stream",
          "text": [
            "Enter the amount you wish to spend on your campaign:\u001b[0m500000\n",
            "Select the model befitted for your campaign\u001b[0m\n",
            "1. First Touch \n",
            "2. Last Touch \n",
            "3. Linear Touch \n",
            "4. Markov Chains \n",
            "Enter the Option Number:\u001b[0m4\n",
            "     channel_name  Amount to spend\n",
            "0       Instagram     99579.687812\n",
            "1  Online Display     57484.475071\n",
            "2     Paid Search    114968.950141\n",
            "3        Facebook    147977.023616\n",
            "4    Online Video     79989.863360\n"
          ],
          "name": "stdout"
        }
      ]
    },
    {
      "cell_type": "code",
      "metadata": {
        "colab": {
          "base_uri": "https://localhost:8080/",
          "height": 542
        },
        "id": "SfcmSgnw_RFf",
        "outputId": "bbb43685-ba2c-4d64-ca1f-405dcc171710"
      },
      "source": [
        "a=pd.merge(first_touch,last_touch,on=\"channel_name\",how=\"inner\")\n",
        "a=a.rename(columns={\"value_weightage_x\":\"first_touch\",\"value_weightage_y\":\"last_touch\"})\n",
        "b=pd.merge(a,linear_touch,on=\"channel_name\",how=\"inner\")\n",
        "b=b.rename(columns={\"value_weightage\":\"linear_touch\"})\n",
        "c=pd.merge(b,markov_model,on=\"channel_name\",how=\"inner\")\n",
        "c=c.rename(columns={\"value_weightage\":\"markov_chain\"})\n",
        "c=pd.melt(c, id_vars=\"channel_name\")\n",
        "data = [dict(type = \"histogram\", histfunc=\"sum\",x = c.channel_name, y = c.value,transforms = [dict(type = \"groupby\", groups = c.variable)])]\n",
        "fig = dict({\"data\":data})\n",
        "pio.show(fig,validate=False)"
      ],
      "execution_count": 242,
      "outputs": [
        {
          "output_type": "display_data",
          "data": {
            "text/html": [
              "<html>\n",
              "<head><meta charset=\"utf-8\" /></head>\n",
              "<body>\n",
              "    <div>\n",
              "            <script src=\"https://cdnjs.cloudflare.com/ajax/libs/mathjax/2.7.5/MathJax.js?config=TeX-AMS-MML_SVG\"></script><script type=\"text/javascript\">if (window.MathJax) {MathJax.Hub.Config({SVG: {font: \"STIX-Web\"}});}</script>\n",
              "                <script type=\"text/javascript\">window.PlotlyConfig = {MathJaxConfig: 'local'};</script>\n",
              "        <script src=\"https://cdn.plot.ly/plotly-latest.min.js\"></script>    \n",
              "            <div id=\"8554fd1a-11f3-4d8e-8320-7afdf1817c07\" class=\"plotly-graph-div\" style=\"height:525px; width:100%;\"></div>\n",
              "            <script type=\"text/javascript\">\n",
              "                \n",
              "                    window.PLOTLYENV=window.PLOTLYENV || {};\n",
              "                    \n",
              "                if (document.getElementById(\"8554fd1a-11f3-4d8e-8320-7afdf1817c07\")) {\n",
              "                    Plotly.newPlot(\n",
              "                        '8554fd1a-11f3-4d8e-8320-7afdf1817c07',\n",
              "                        [{\"histfunc\": \"sum\", \"transforms\": [{\"groups\": [\"first_touch\", \"first_touch\", \"first_touch\", \"first_touch\", \"first_touch\", \"last_touch\", \"last_touch\", \"last_touch\", \"last_touch\", \"last_touch\", \"linear_touch\", \"linear_touch\", \"linear_touch\", \"linear_touch\", \"linear_touch\", \"markov_chain\", \"markov_chain\", \"markov_chain\", \"markov_chain\", \"markov_chain\"], \"type\": \"groupby\"}], \"type\": \"histogram\", \"x\": [\"Instagram\", \"Online Display\", \"Paid Search\", \"Facebook\", \"Online Video\", \"Instagram\", \"Online Display\", \"Paid Search\", \"Facebook\", \"Online Video\", \"Instagram\", \"Online Display\", \"Paid Search\", \"Facebook\", \"Online Video\", \"Instagram\", \"Online Display\", \"Paid Search\", \"Facebook\", \"Online Video\"], \"y\": [0.13238072598629147, 0.2084212360524869, 0.2390325476450335, 0.1965527781280069, 0.22361271218818118, 0.127420166154977, 0.2064566468684845, 0.22773183939139616, 0.2017010071440535, 0.23669034044108872, 0.12870399165624338, 0.20514152493222043, 0.23482126357203661, 0.1986097527833758, 0.2327234670561237, 0.1991593756239409, 0.11496895014104264, 0.22993790028208527, 0.29595404723264607, 0.15997972672028504]}],\n",
              "                        {},\n",
              "                        {\"responsive\": true}\n",
              "                    ).then(function(){\n",
              "                            \n",
              "var gd = document.getElementById('8554fd1a-11f3-4d8e-8320-7afdf1817c07');\n",
              "var x = new MutationObserver(function (mutations, observer) {{\n",
              "        var display = window.getComputedStyle(gd).display;\n",
              "        if (!display || display === 'none') {{\n",
              "            console.log([gd, 'removed!']);\n",
              "            Plotly.purge(gd);\n",
              "            observer.disconnect();\n",
              "        }}\n",
              "}});\n",
              "\n",
              "// Listen for the removal of the full notebook cells\n",
              "var notebookContainer = gd.closest('#notebook-container');\n",
              "if (notebookContainer) {{\n",
              "    x.observe(notebookContainer, {childList: true});\n",
              "}}\n",
              "\n",
              "// Listen for the clearing of the current output cell\n",
              "var outputEl = gd.closest('.output');\n",
              "if (outputEl) {{\n",
              "    x.observe(outputEl, {childList: true});\n",
              "}}\n",
              "\n",
              "                        })\n",
              "                };\n",
              "                \n",
              "            </script>\n",
              "        </div>\n",
              "</body>\n",
              "</html>"
            ]
          },
          "metadata": {
            "tags": []
          }
        }
      ]
    },
    {
      "cell_type": "code",
      "metadata": {
        "id": "aWT1_zC5IAOf"
      },
      "source": [
        ""
      ],
      "execution_count": 229,
      "outputs": []
    },
    {
      "cell_type": "code",
      "metadata": {
        "id": "vH9K7IbQDEma"
      },
      "source": [
        ""
      ],
      "execution_count": 230,
      "outputs": []
    },
    {
      "cell_type": "code",
      "metadata": {
        "id": "nVqciCgwInvX"
      },
      "source": [
        ""
      ],
      "execution_count": 232,
      "outputs": []
    },
    {
      "cell_type": "code",
      "metadata": {
        "id": "QR-ah-buDFvE"
      },
      "source": [
        ""
      ],
      "execution_count": 234,
      "outputs": []
    },
    {
      "cell_type": "code",
      "metadata": {
        "id": "Bt5O7WSjI1ID"
      },
      "source": [
        ""
      ],
      "execution_count": 236,
      "outputs": []
    },
    {
      "cell_type": "code",
      "metadata": {
        "id": "Guw2EjqfFMwr"
      },
      "source": [
        ""
      ],
      "execution_count": 238,
      "outputs": []
    },
    {
      "cell_type": "code",
      "metadata": {
        "colab": {
          "base_uri": "https://localhost:8080/",
          "height": 542
        },
        "id": "A1NnjfpnHnqV",
        "outputId": "7f2ac3d5-81b7-40a5-adff-136731b38dfd"
      },
      "source": [
        ""
      ],
      "execution_count": 241,
      "outputs": [
        {
          "output_type": "display_data",
          "data": {
            "text/html": [
              "<html>\n",
              "<head><meta charset=\"utf-8\" /></head>\n",
              "<body>\n",
              "    <div>\n",
              "            <script src=\"https://cdnjs.cloudflare.com/ajax/libs/mathjax/2.7.5/MathJax.js?config=TeX-AMS-MML_SVG\"></script><script type=\"text/javascript\">if (window.MathJax) {MathJax.Hub.Config({SVG: {font: \"STIX-Web\"}});}</script>\n",
              "                <script type=\"text/javascript\">window.PlotlyConfig = {MathJaxConfig: 'local'};</script>\n",
              "        <script src=\"https://cdn.plot.ly/plotly-latest.min.js\"></script>    \n",
              "            <div id=\"889b5fa0-689a-4a9c-a11f-cde4dcccc719\" class=\"plotly-graph-div\" style=\"height:525px; width:100%;\"></div>\n",
              "            <script type=\"text/javascript\">\n",
              "                \n",
              "                    window.PLOTLYENV=window.PLOTLYENV || {};\n",
              "                    \n",
              "                if (document.getElementById(\"889b5fa0-689a-4a9c-a11f-cde4dcccc719\")) {\n",
              "                    Plotly.newPlot(\n",
              "                        '889b5fa0-689a-4a9c-a11f-cde4dcccc719',\n",
              "                        [{\"histfunc\": \"sum\", \"transforms\": [{\"groups\": [\"first_touch\", \"first_touch\", \"first_touch\", \"first_touch\", \"first_touch\", \"last_touch\", \"last_touch\", \"last_touch\", \"last_touch\", \"last_touch\", \"linear_touch\", \"linear_touch\", \"linear_touch\", \"linear_touch\", \"linear_touch\", \"markov_chain\", \"markov_chain\", \"markov_chain\", \"markov_chain\", \"markov_chain\"], \"type\": \"groupby\"}], \"type\": \"histogram\", \"x\": [\"Instagram\", \"Online Display\", \"Paid Search\", \"Facebook\", \"Online Video\", \"Instagram\", \"Online Display\", \"Paid Search\", \"Facebook\", \"Online Video\", \"Instagram\", \"Online Display\", \"Paid Search\", \"Facebook\", \"Online Video\", \"Instagram\", \"Online Display\", \"Paid Search\", \"Facebook\", \"Online Video\"], \"y\": [0.13238072598629147, 0.2084212360524869, 0.2390325476450335, 0.1965527781280069, 0.22361271218818118, 0.127420166154977, 0.2064566468684845, 0.22773183939139616, 0.2017010071440535, 0.23669034044108872, 0.12870399165624338, 0.20514152493222043, 0.23482126357203661, 0.1986097527833758, 0.2327234670561237, 0.1991593756239409, 0.11496895014104264, 0.22993790028208527, 0.29595404723264607, 0.15997972672028504]}],\n",
              "                        {},\n",
              "                        {\"responsive\": true}\n",
              "                    ).then(function(){\n",
              "                            \n",
              "var gd = document.getElementById('889b5fa0-689a-4a9c-a11f-cde4dcccc719');\n",
              "var x = new MutationObserver(function (mutations, observer) {{\n",
              "        var display = window.getComputedStyle(gd).display;\n",
              "        if (!display || display === 'none') {{\n",
              "            console.log([gd, 'removed!']);\n",
              "            Plotly.purge(gd);\n",
              "            observer.disconnect();\n",
              "        }}\n",
              "}});\n",
              "\n",
              "// Listen for the removal of the full notebook cells\n",
              "var notebookContainer = gd.closest('#notebook-container');\n",
              "if (notebookContainer) {{\n",
              "    x.observe(notebookContainer, {childList: true});\n",
              "}}\n",
              "\n",
              "// Listen for the clearing of the current output cell\n",
              "var outputEl = gd.closest('.output');\n",
              "if (outputEl) {{\n",
              "    x.observe(outputEl, {childList: true});\n",
              "}}\n",
              "\n",
              "                        })\n",
              "                };\n",
              "                \n",
              "            </script>\n",
              "        </div>\n",
              "</body>\n",
              "</html>"
            ]
          },
          "metadata": {
            "tags": []
          }
        }
      ]
    },
    {
      "cell_type": "code",
      "metadata": {
        "id": "3x_WpWMQDoif"
      },
      "source": [
        ""
      ],
      "execution_count": null,
      "outputs": []
    }
  ]
}